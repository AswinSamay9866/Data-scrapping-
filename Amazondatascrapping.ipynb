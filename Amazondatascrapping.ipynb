{
 "cells": [
  {
   "cell_type": "code",
   "execution_count": 1,
   "id": "9e7dca99-339d-47ac-8d84-bb72650e2fdc",
   "metadata": {},
   "outputs": [],
   "source": [
    "from bs4 import BeautifulSoup\n",
    "import requests\n",
    "import time\n",
    "import datetime\n",
    "import smtplib\n",
    "import pandas as pd"
   ]
  },
  {
   "cell_type": "code",
   "execution_count": 2,
   "id": "612351a6-f3f7-451f-a66b-cda9b56b6b26",
   "metadata": {},
   "outputs": [
    {
     "name": "stdout",
     "output_type": "stream",
     "text": [
      "Requirement already satisfied: lxml in d:\\anaconda\\lib\\site-packages (4.6.3)\n",
      "Note: you may need to restart the kernel to use updated packages.\n"
     ]
    }
   ],
   "source": [
    "pip install lxml"
   ]
  },
  {
   "cell_type": "code",
   "execution_count": 3,
   "id": "7ba4fe9c-a174-48d2-bba7-2be48de79622",
   "metadata": {
    "scrolled": true,
    "tags": []
   },
   "outputs": [
    {
     "name": "stdout",
     "output_type": "stream",
     "text": [
      "\n",
      "            Biotique Cado Stress Relief Avocado Stress Relief Body Massage Oil, 200ml\n",
      "           \n",
      "\n",
      "\n",
      "\n",
      "\n",
      "\n",
      "             ₹135.00\n",
      "            \n",
      "\n",
      "\n",
      "              ₹\n",
      "             \n",
      "\n",
      "              135\n",
      "              \n",
      "               .\n",
      "              \n",
      "\n",
      "\n",
      "              00\n",
      "             \n",
      "\n",
      "\n",
      "\n",
      "            (\n",
      "            \n",
      "\n",
      "              ₹67.50\n",
      "             \n",
      "\n",
      "              ₹67.50\n",
      "             \n",
      "\n",
      "            /100 ml)\n",
      "           \n",
      "\n",
      "\n",
      "\n",
      "\n",
      "\n",
      "\n",
      "\n",
      "\n",
      "\n"
     ]
    }
   ],
   "source": [
    "url = 'https://www.amazon.in/Biotique-Avocado-Stress-Relief-Massage/dp/B0099PVNHG/ref=sxin_15?asc_contentid=amzn1.osa.b70ffb5a-9405-40c3-9daf-d9079f58368b.A21TJRUUN4KGV.en_IN&asc_contenttype=article&ascsubtag=amzn1.osa.b70ffb5a-9405-40c3-9daf-d9079f58368b.A21TJRUUN4KGV.en_IN&creativeASIN=B0099PVNHG&crid=2HQ6WEOKWS1U8&cv_ct_cx=avocado+&cv_ct_id=amzn1.osa.b70ffb5a-9405-40c3-9daf-d9079f58368b.A21TJRUUN4KGV.en_IN&cv_ct_pg=search&cv_ct_we=asin&cv_ct_wn=osp-single-source-earns-comm&keywords=avocado+&linkCode=oas&pd_rd_i=B0099PVNHG&pd_rd_r=361f2ec3-32ce-4bf1-99a8-06cbad9f68e4&pd_rd_w=9TYX4&pd_rd_wg=K3TyR&pf_rd_p=31dc3369-28cf-4a1f-9aa0-314b513a6d1f&pf_rd_r=01SZ7JVBP469565GE2R1&qid=1651255406&sprefix=avacado%2Caps%2C289&sr=1-1-483c64d8-df78-4008-ae20-e69f683e58b1&tag=reviewsin-21'\n",
    "headers = {\"User-Agent\": \"Mozilla/5.0 (Windows NT 10.0; Win64; x64) AppleWebKit/537.36 (KHTML, like Gecko) Chrome/78.0.3904.108 Safari/537.36\", \"Accept-Encoding\":\"gzip, deflate\", \"Accept\":\"text/html,application/xhtml+xml,application/xml;q=0.9,*/*;q=0.8\", \"DNT\":\"1\",\"Connection\":\"close\", \"Upgrade-Insecure-Requests\":\"1\"}\n",
    "page = requests.get(url, headers=headers)\n",
    "Soup1 = BeautifulSoup(page.content, 'html.parser')\n",
    "\n",
    "Soup2 = BeautifulSoup(Soup1.prettify(), 'html.parser')\n",
    "title = Soup2.find(id=\"productTitle\").get_text()\n",
    "price = Soup2.find(id=\"corePriceDisplay_desktop_feature_div\").get_text()\n",
    "\n",
    "print(title)\n",
    "print(price)\n",
    "\n",
    "\n",
    "\n",
    "\n",
    "\n",
    "\n"
   ]
  },
  {
   "cell_type": "code",
   "execution_count": 4,
   "id": "75af8db3-8db0-48f1-bdf8-a77a5bec14c0",
   "metadata": {},
   "outputs": [
    {
     "name": "stdout",
     "output_type": "stream",
     "text": [
      "Biotique Cado Stress Relief Avocado Stress Relief Body Massage Oil, 200ml\n",
      "135.00\n"
     ]
    }
   ],
   "source": [
    "price = price.strip()[1:7]\n",
    "title = title.strip()\n",
    "print(title)\n",
    "print(price)"
   ]
  },
  {
   "cell_type": "code",
   "execution_count": 5,
   "id": "86ef9112-5501-4816-a54d-c558b12582b6",
   "metadata": {},
   "outputs": [
    {
     "name": "stdout",
     "output_type": "stream",
     "text": [
      "2022-05-01\n"
     ]
    }
   ],
   "source": [
    "import datetime\n",
    "today = datetime.date.today()\n",
    "print(today)"
   ]
  },
  {
   "cell_type": "code",
   "execution_count": 6,
   "id": "55e27c80-0993-40e1-a851-5b5efb22ccdb",
   "metadata": {},
   "outputs": [],
   "source": [
    "import csv\n",
    "header = ['Title','Price','date']\n",
    "data = [title,price,today]\n",
    "with open('Amazonwebscrap.csv', 'w' , newline='', encoding='UTF8') as f:\n",
    "    writer = csv.writer(f)\n",
    "    writer.writerow(header)\n",
    "    writer.writerow(data)\n",
    "    \n",
    "    \n",
    "    "
   ]
  },
  {
   "cell_type": "code",
   "execution_count": 7,
   "id": "204d929d-2ed6-48bc-8e7a-79bdacbd87e2",
   "metadata": {},
   "outputs": [],
   "source": [
    "\n",
    "with open('Amazonwebscrap.csv', 'a+' , newline='', encoding='UTF8') as f:\n",
    "    writer = csv.writer(f)\n",
    "    writer.writerow(data)"
   ]
  },
  {
   "cell_type": "code",
   "execution_count": 8,
   "id": "cead1d7c-994e-4789-b8ca-a5ef727b7bfd",
   "metadata": {},
   "outputs": [],
   "source": [
    "def price_check():\n",
    "    url = 'https://www.amazon.in/Biotique-Avocado-Stress-Relief-Massage/dp/B0099PVNHG/ref=sxin_15?asc_contentid=amzn1.osa.b70ffb5a-9405-40c3-9daf-d9079f58368b.A21TJRUUN4KGV.en_IN&asc_contenttype=article&ascsubtag=amzn1.osa.b70ffb5a-9405-40c3-9daf-d9079f58368b.A21TJRUUN4KGV.en_IN&creativeASIN=B0099PVNHG&crid=2HQ6WEOKWS1U8&cv_ct_cx=avocado+&cv_ct_id=amzn1.osa.b70ffb5a-9405-40c3-9daf-d9079f58368b.A21TJRUUN4KGV.en_IN&cv_ct_pg=search&cv_ct_we=asin&cv_ct_wn=osp-single-source-earns-comm&keywords=avocado+&linkCode=oas&pd_rd_i=B0099PVNHG&pd_rd_r=361f2ec3-32ce-4bf1-99a8-06cbad9f68e4&pd_rd_w=9TYX4&pd_rd_wg=K3TyR&pf_rd_p=31dc3369-28cf-4a1f-9aa0-314b513a6d1f&pf_rd_r=01SZ7JVBP469565GE2R1&qid=1651255406&sprefix=avacado%2Caps%2C289&sr=1-1-483c64d8-df78-4008-ae20-e69f683e58b1&tag=reviewsin-21'\n",
    "    headers = {\"User-Agent\": \"Mozilla/5.0 (Windows NT 10.0; Win64; x64) AppleWebKit/537.36 (KHTML, like Gecko) Chrome/78.0.3904.108 Safari/537.36\", \"Accept-Encoding\":\"gzip, deflate\", \"Accept\":\"text/html,application/xhtml+xml,application/xml;q=0.9,*/*;q=0.8\", \"DNT\":\"1\",\"Connection\":\"close\", \"Upgrade-Insecure-Requests\":\"1\"}\n",
    "    page = requests.get(url, headers=headers)\n",
    "    Soup1 = BeautifulSoup(page.content, 'html.parser')\n",
    "\n",
    "    Soup2 = BeautifulSoup(Soup1.prettify(), 'html.parser')\n",
    "    title = Soup2.find(id=\"productTitle\").get_text()\n",
    "    price = Soup2.find(id=\"corePriceDisplay_desktop_feature_div\").get_text()\n",
    "    price = price.strip()[1:7]\n",
    "    title = title.strip()\n",
    "    import datetime\n",
    "    today = datetime.date.today()\n",
    "    header = ['Title','Price','date']\n",
    "    data = [title,price,today]\n",
    "    with open('Amazonwebscrap.csv', 'a+' , newline='', encoding='UTF8') as f:\n",
    "        writer = csv.writer(f)\n",
    "        writer.writerow(data)\n",
    "    \n",
    "    "
   ]
  },
  {
   "cell_type": "code",
   "execution_count": 9,
   "id": "73c83819-e55a-49f8-8685-2a99f4e3a33d",
   "metadata": {},
   "outputs": [
    {
     "name": "stdout",
     "output_type": "stream",
     "text": [
      "                                               Title  Price        date\n",
      "0  Biotique Cado Stress Relief Avocado Stress Rel...  135.0  2022-05-01\n",
      "1  Biotique Cado Stress Relief Avocado Stress Rel...  135.0  2022-05-01\n"
     ]
    }
   ],
   "source": [
    "lol = pd.read_csv(r\"C:\\Users\\aswin\\Jupyter workspace\\sparks internship\\project\\Amazonwebscrap.csv\")\n",
    "print(lol)"
   ]
  },
  {
   "cell_type": "code",
   "execution_count": null,
   "id": "267456d9-f236-462c-8aa6-ddadb3f10a05",
   "metadata": {},
   "outputs": [],
   "source": [
    "while(True):\n",
    "    price_check()\n",
    "    time.sleep(86400)"
   ]
  },
  {
   "cell_type": "code",
   "execution_count": null,
   "id": "edbce914-1751-41eb-b0d3-b8e82491e957",
   "metadata": {},
   "outputs": [],
   "source": []
  }
 ],
 "metadata": {
  "kernelspec": {
   "display_name": "Python 3 (ipykernel)",
   "language": "python",
   "name": "python3"
  },
  "language_info": {
   "codemirror_mode": {
    "name": "ipython",
    "version": 3
   },
   "file_extension": ".py",
   "mimetype": "text/x-python",
   "name": "python",
   "nbconvert_exporter": "python",
   "pygments_lexer": "ipython3",
   "version": "3.9.7"
  }
 },
 "nbformat": 4,
 "nbformat_minor": 5
}
